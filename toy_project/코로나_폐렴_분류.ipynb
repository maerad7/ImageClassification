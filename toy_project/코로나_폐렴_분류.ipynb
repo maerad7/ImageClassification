{
 "cells": [
  {
   "cell_type": "markdown",
   "metadata": {},
   "source": []
  },
  {
   "cell_type": "markdown",
   "metadata": {},
   "source": [
    "# 코로나, 폐렴, 정상 이미지 분류하기 "
   ]
  },
  {
   "cell_type": "markdown",
   "metadata": {},
   "source": [
    "1. dataset\n",
    "- 코로나_페사진 데이터셋[https://www.kaggle.com/datasets/pranavraikokte/covid19-image-dataset]\n"
   ]
  },
  {
   "cell_type": "markdown",
   "metadata": {},
   "source": [
    "`"
   ]
  },
  {
   "cell_type": "code",
   "execution_count": 1,
   "metadata": {},
   "outputs": [],
   "source": [
    "import os"
   ]
  },
  {
   "cell_type": "code",
   "execution_count": 2,
   "metadata": {},
   "outputs": [
    {
     "name": "stdout",
     "output_type": "stream",
     "text": [
      "zsh:1: no such file or directory: pwd/Users/maerad7/Documents/05.\n"
     ]
    }
   ],
   "source": [
    "!pwd/Users/maerad7/Documents/05. 개인프로젝트/02. 코로나_폐렴_정상 이미지 분류/Classification"
   ]
  },
  {
   "cell_type": "code",
   "execution_count": 3,
   "metadata": {},
   "outputs": [],
   "source": [
    "Image_format = [\"jpeg\",\"jpg\",\"png\"]\n",
    "\n",
    "def list_image_files(data_dir, sub_dir):\n",
    "    image_files = []\n",
    "    images_dir = os.path.join(data_dir, sub_dir)\n",
    "    for file_path in os.listdir(images_dir):\n",
    "        if file_path.split(\".\")[-1] in Image_format:\n",
    "            image_files.append(os.path.join(sub_dir, file_path))\n",
    "\n",
    "    return image_files        "
   ]
  },
  {
   "cell_type": "code",
   "execution_count": 4,
   "metadata": {},
   "outputs": [
    {
     "name": "stdout",
     "output_type": "stream",
     "text": [
      "/Users/maerad7/Documents/05. 개인프로젝트\n"
     ]
    }
   ],
   "source": [
    "!pwd"
   ]
  },
  {
   "cell_type": "code",
   "execution_count": 5,
   "metadata": {},
   "outputs": [],
   "source": [
    "data_dir = \"/Users/maerad7/Documents/05. 개인프로젝트/02. 코로나_폐렴_정상 이미지 분류/data/train\"\n",
    "normal_list = list_image_files(data_dir,\"Normal\")\n",
    "covid_list = list_image_files(data_dir,\"Covid\")\n",
    "pneumonias_list = list_image_files(data_dir,\"Viral Pneumonia\")"
   ]
  },
  {
   "cell_type": "code",
   "execution_count": 6,
   "metadata": {},
   "outputs": [
    {
     "data": {
      "text/plain": [
       "(70, 111, 70)"
      ]
     },
     "execution_count": 6,
     "metadata": {},
     "output_type": "execute_result"
    }
   ],
   "source": [
    "len(normal_list),len(covid_list),len(pneumonias_list)"
   ]
  },
  {
   "cell_type": "markdown",
   "metadata": {},
   "source": [
    "2. 이미지 로딩"
   ]
  },
  {
   "cell_type": "code",
   "execution_count": 7,
   "metadata": {},
   "outputs": [],
   "source": [
    "import cv2"
   ]
  },
  {
   "cell_type": "code",
   "execution_count": 126,
   "metadata": {},
   "outputs": [],
   "source": [
    "def get_RGB_image(data_dir, file_name):\n",
    "    image_file = os.path.join(data_dir, file_name)\n",
    "    image = cv2.imread(image_file)\n",
    "    image = cv2.cvtColor(image, cv2.COLOR_BGR2RGB)\n",
    "\n",
    "    return image"
   ]
  },
  {
   "cell_type": "markdown",
   "metadata": {},
   "source": []
  },
  {
   "cell_type": "code",
   "execution_count": 9,
   "metadata": {},
   "outputs": [],
   "source": [
    "import matplotlib.pyplot as plt\n",
    "from ipywidgets import interact"
   ]
  },
  {
   "cell_type": "code",
   "execution_count": 10,
   "metadata": {},
   "outputs": [
    {
     "name": "stdout",
     "output_type": "stream",
     "text": [
      "70\n"
     ]
    }
   ],
   "source": [
    "min_num_files = min(len(normal_list),len(covid_list),len(pneumonias_list))\n",
    "print(min_num_files)"
   ]
  },
  {
   "cell_type": "code",
   "execution_count": 11,
   "metadata": {},
   "outputs": [
    {
     "data": {
      "application/vnd.jupyter.widget-view+json": {
       "model_id": "ce4ab74a7c684323add8dbacfc799954",
       "version_major": 2,
       "version_minor": 0
      },
      "text/plain": [
       "interactive(children=(IntSlider(value=0, description='index', max=69), Output()), _dom_classes=('widget-intera…"
      ]
     },
     "metadata": {},
     "output_type": "display_data"
    }
   ],
   "source": [
    "# 슬라이드 바가 생성 되고 0 부터 69번 인덱스 까지 이동\n",
    "@interact(index=(0, min_num_files-1))\n",
    "def show_samples(index=0):\n",
    "    normal_Image = get_RGB_image(data_dir, normal_list[index])\n",
    "    covid_Image = get_RGB_image(data_dir,covid_list[index])\n",
    "    pneumonias_Image = get_RGB_image(data_dir, pneumonias_list[index])\n",
    "    \n",
    "    plt.figure(figsize=(12,8))\n",
    "    plt.subplot(131)\n",
    "    plt.title('Normal')\n",
    "    plt.imshow(normal_Image)\n",
    "    \n",
    "    plt.subplot(132)\n",
    "    plt.title('Covid')\n",
    "    plt.imshow(covid_Image)\n",
    "    \n",
    "    plt.subplot(133)\n",
    "    plt.title('pneumonias')\n",
    "    plt.imshow(pneumonias_Image)"
   ]
  },
  {
   "cell_type": "markdown",
   "metadata": {},
   "source": [
    "3. DataSet class"
   ]
  },
  {
   "cell_type": "code",
   "execution_count": 12,
   "metadata": {},
   "outputs": [],
   "source": [
    "train_data_dir = \"/Users/maerad7/Documents/05. 개인프로젝트/02. 코로나_폐렴_정상 이미지 분류/data/train/\"\n",
    "class_list=['Covid','Normal','Viral Pneumonia']"
   ]
  },
  {
   "cell_type": "code",
   "execution_count": 14,
   "metadata": {},
   "outputs": [],
   "source": [
    "import torch\n",
    "import numpy as np\n",
    "from PIL import Image\n",
    "from torch.utils.data import Dataset, DataLoader\n"
   ]
  },
  {
   "cell_type": "code",
   "execution_count": 48,
   "metadata": {},
   "outputs": [],
   "source": [
    "class Chest_dataset(Dataset):\n",
    "    def __init__(self,data_dir, transform = None):\n",
    "        self.data_dir = data_dir\n",
    "        normals = list_image_files(data_dir,\"Normal\")\n",
    "        covids = list_image_files(data_dir,\"Covid\")\n",
    "        pneumonias = list_image_files(data_dir, \"Viral Pneumonia\")\n",
    "        \n",
    "        self.files_path = normals + covids + pneumonias\n",
    "        self.transform = transform\n",
    "    \n",
    "    def __len__(self):\n",
    "        return(len(self.files_path))\n",
    "    \n",
    "    def __getitem__(self, index):\n",
    "        image_file = os.path.join(self.data_dir, self.files_path[index])\n",
    "        image = cv2.imread(image_file)\n",
    "        image = cv2.cvtColor(image, cv2.COLOR_BGR2RGB)\n",
    "        \n",
    "        # class_name = self.files_path[index].split(os.sep)[0]\n",
    "        # class_id = class_list.index(class_name) # class -> id\n",
    "        target = class_list.index(self.files_path[index].split(os.sep)[0])\n",
    "        if self.transform:\n",
    "            image = self.transform(Image.fromarray(image))\n",
    "            \n",
    "            target = torch.Tensor([target]).long()\n",
    "        return image, target"
   ]
  },
  {
   "cell_type": "code",
   "execution_count": 49,
   "metadata": {},
   "outputs": [],
   "source": [
    "dataset = Chest_dataset(data_dir=train_data_dir)"
   ]
  },
  {
   "cell_type": "code",
   "execution_count": 50,
   "metadata": {},
   "outputs": [],
   "source": [
    "image, target = dataset[0]"
   ]
  },
  {
   "cell_type": "code",
   "execution_count": 51,
   "metadata": {},
   "outputs": [
    {
     "data": {
      "text/plain": [
       "<matplotlib.image.AxesImage at 0x167cfe4a0>"
      ]
     },
     "execution_count": 51,
     "metadata": {},
     "output_type": "execute_result"
    },
    {
     "data": {
      "image/png": "[encoded data removed]",
      "text/plain": [
       "<Figure size 432x288 with 1 Axes>"
      ]
     },
     "metadata": {
      "needs_background": "light"
     },
     "output_type": "display_data"
    }
   ],
   "source": [
    "plt.title(class_list[target])\n",
    "plt.imshow(image)"
   ]
  },
  {
   "cell_type": "code",
   "execution_count": 52,
   "metadata": {},
   "outputs": [
    {
     "data": {
      "text/plain": [
       "251"
      ]
     },
     "execution_count": 52,
     "metadata": {},
     "output_type": "execute_result"
    }
   ],
   "source": [
    "len(dataset)"
   ]
  },
  {
   "cell_type": "markdown",
   "metadata": {},
   "source": [
    "###"
   ]
  },
  {
   "cell_type": "markdown",
   "metadata": {},
   "source": [
    "#### 연산가능한 텐서형으로 데이터 변환"
   ]
  },
  {
   "cell_type": "code",
   "execution_count": 53,
   "metadata": {},
   "outputs": [],
   "source": [
    "import torch\n",
    "from torchvision import transforms"
   ]
  },
  {
   "cell_type": "code",
   "execution_count": 54,
   "metadata": {},
   "outputs": [],
   "source": [
    "transform = transforms.Compose([\n",
    "    transforms.Resize((224,244)),\n",
    "    transforms.ToTensor(),\n",
    "\n",
    "    transforms.Normalize(mean=[0.5,0.5,0.5],std=[0.5,0.5,0.5]\n",
    "                         )])"
   ]
  },
  {
   "cell_type": "code",
   "execution_count": 22,
   "metadata": {},
   "outputs": [],
   "source": [
    "train_dataset = Chest_dataset(train_data_dir, transform)"
   ]
  },
  {
   "cell_type": "code",
   "execution_count": 23,
   "metadata": {},
   "outputs": [
    {
     "name": "stdout",
     "output_type": "stream",
     "text": [
      "torch.Size([3, 224, 244])\n",
      "tensor([2])\n",
      "<class 'torch.Tensor'>\n"
     ]
    }
   ],
   "source": [
    "train_dataset = Chest_dataset(train_data_dir, transform)\n",
    "index = 200\n",
    "image = train_dataset[index][0]\n",
    "target = train_dataset[index][1]\n",
    "\n",
    "print(image.shape)\n",
    "print(target)\n",
    "print(type(target))"
   ]
  },
  {
   "cell_type": "markdown",
   "metadata": {},
   "source": [
    "4. dataloader"
   ]
  },
  {
   "cell_type": "code",
   "execution_count": 24,
   "metadata": {},
   "outputs": [],
   "source": [
    "from torch.utils.data import DataLoader"
   ]
  },
  {
   "cell_type": "code",
   "execution_count": 25,
   "metadata": {},
   "outputs": [
    {
     "data": {
      "text/plain": [
       "'1.12.0'"
      ]
     },
     "execution_count": 25,
     "metadata": {},
     "output_type": "execute_result"
    }
   ],
   "source": [
    "torch.__version__"
   ]
  },
  {
   "cell_type": "code",
   "execution_count": 26,
   "metadata": {},
   "outputs": [],
   "source": [
    "train_data_dir = \"/Users/maerad7/Documents/05. 개인프로젝트/02. 코로나_폐렴_정상 이미지 분류/data/train/\"\n",
    "val_data_dir = \"/Users/maerad7/Documents/05. 개인프로젝트/02. 코로나_폐렴_정상 이미지 분류/data/test/\"\n",
    "\n",
    "train_dataset = Chest_dataset(train_data_dir, transform)\n",
    "train_dataloader = DataLoader(train_dataset, batch_size=4, shuffle=True, drop_last=True) # drop_last : bacth수로 남은 후 쓸지 안쓸지 결정 \n",
    "val_dataset = Chest_dataset(val_data_dir, transform)\n",
    "val_dataloader = DataLoader(val_dataset, batch_size = 1, shuffle=False)"
   ]
  },
  {
   "cell_type": "code",
   "execution_count": 27,
   "metadata": {},
   "outputs": [],
   "source": [
    "def build_dataloader(train_data_dir, val_data_dir):\n",
    "    dataloaders={}\n",
    "    train_dataset = Chest_dataset(train_data_dir, transform)\n",
    "    dataloaders[\"train\"] = DataLoader(train_dataset, batch_size=4, shuffle=True, drop_last=True) # drop_last : bacth수로 남은 후 쓸지 안쓸지 결정 \n",
    "    val_dataset = Chest_dataset(val_data_dir, transform)\n",
    "    dataloaders['val'] = DataLoader(val_dataset, batch_size = 1, shuffle=False)\n",
    "    return dataloaders"
   ]
  },
  {
   "cell_type": "code",
   "execution_count": 28,
   "metadata": {},
   "outputs": [],
   "source": [
    "dataloaders = build_dataloader(train_data_dir,val_data_dir)"
   ]
  },
  {
   "cell_type": "markdown",
   "metadata": {},
   "source": []
  },
  {
   "cell_type": "markdown",
   "metadata": {},
   "source": [
    "5. Model\n",
    "- vgg 19"
   ]
  },
  {
   "cell_type": "code",
   "execution_count": 29,
   "metadata": {},
   "outputs": [],
   "source": [
    "from torchvision import models"
   ]
  },
  {
   "cell_type": "code",
   "execution_count": 30,
   "metadata": {},
   "outputs": [
    {
     "name": "stderr",
     "output_type": "stream",
     "text": [
      "/Users/maerad7/opt/anaconda3/envs/pytorch/lib/python3.10/site-packages/torchvision/models/_utils.py:208: UserWarning: The parameter 'pretrained' is deprecated since 0.13 and will be removed in 0.15, please use 'weights' instead.\n",
      "  warnings.warn(\n",
      "/Users/maerad7/opt/anaconda3/envs/pytorch/lib/python3.10/site-packages/torchvision/models/_utils.py:223: UserWarning: Arguments other than a weight enum or `None` for 'weights' are deprecated since 0.13 and will be removed in 0.15. The current behavior is equivalent to passing `weights=VGG19_Weights.IMAGENET1K_V1`. You can also use `weights=VGG19_Weights.DEFAULT` to get the most up-to-date weights.\n",
      "  warnings.warn(msg)\n",
      "Downloading: \"https://download.pytorch.org/models/vgg19-dcbb9e9d.pth\" to /Users/maerad7/.cache/torch/hub/checkpoints/vgg19-dcbb9e9d.pth\n",
      "4.3%IOPub message rate exceeded.\n",
      "The notebook server will temporarily stop sending output\n",
      "to the client in order to avoid crashing it.\n",
      "To change this limit, set the config variable\n",
      "`--NotebookApp.iopub_msg_rate_limit`.\n",
      "\n",
      "Current values:\n",
      "NotebookApp.iopub_msg_rate_limit=1000.0 (msgs/sec)\n",
      "NotebookApp.rate_limit_window=3.0 (secs)\n",
      "\n",
      "11.3%IOPub message rate exceeded.\n",
      "The notebook server will temporarily stop sending output\n",
      "to the client in order to avoid crashing it.\n",
      "To change this limit, set the config variable\n",
      "`--NotebookApp.iopub_msg_rate_limit`.\n",
      "\n",
      "Current values:\n",
      "NotebookApp.iopub_msg_rate_limit=1000.0 (msgs/sec)\n",
      "NotebookApp.rate_limit_window=3.0 (secs)\n",
      "\n",
      "18.1%IOPub message rate exceeded.\n",
      "The notebook server will temporarily stop sending output\n",
      "to the client in order to avoid crashing it.\n",
      "To change this limit, set the config variable\n",
      "`--NotebookApp.iopub_msg_rate_limit`.\n",
      "\n",
      "Current values:\n",
      "NotebookApp.iopub_msg_rate_limit=1000.0 (msgs/sec)\n",
      "NotebookApp.rate_limit_window=3.0 (secs)\n",
      "\n",
      "24.7%IOPub message rate exceeded.\n",
      "The notebook server will temporarily stop sending output\n",
      "to the client in order to avoid crashing it.\n",
      "To change this limit, set the config variable\n",
      "`--NotebookApp.iopub_msg_rate_limit`.\n",
      "\n",
      "Current values:\n",
      "NotebookApp.iopub_msg_rate_limit=1000.0 (msgs/sec)\n",
      "NotebookApp.rate_limit_window=3.0 (secs)\n",
      "\n",
      "31.7%IOPub message rate exceeded.\n",
      "The notebook server will temporarily stop sending output\n",
      "to the client in order to avoid crashing it.\n",
      "To change this limit, set the config variable\n",
      "`--NotebookApp.iopub_msg_rate_limit`.\n",
      "\n",
      "Current values:\n",
      "NotebookApp.iopub_msg_rate_limit=1000.0 (msgs/sec)\n",
      "NotebookApp.rate_limit_window=3.0 (secs)\n",
      "\n",
      "38.9%IOPub message rate exceeded.\n",
      "The notebook server will temporarily stop sending output\n",
      "to the client in order to avoid crashing it.\n",
      "To change this limit, set the config variable\n",
      "`--NotebookApp.iopub_msg_rate_limit`.\n",
      "\n",
      "Current values:\n",
      "NotebookApp.iopub_msg_rate_limit=1000.0 (msgs/sec)\n",
      "NotebookApp.rate_limit_window=3.0 (secs)\n",
      "\n",
      "45.6%IOPub message rate exceeded.\n",
      "The notebook server will temporarily stop sending output\n",
      "to the client in order to avoid crashing it.\n",
      "To change this limit, set the config variable\n",
      "`--NotebookApp.iopub_msg_rate_limit`.\n",
      "\n",
      "Current values:\n",
      "NotebookApp.iopub_msg_rate_limit=1000.0 (msgs/sec)\n",
      "NotebookApp.rate_limit_window=3.0 (secs)\n",
      "\n",
      "52.6%IOPub message rate exceeded.\n",
      "The notebook server will temporarily stop sending output\n",
      "to the client in order to avoid crashing it.\n",
      "To change this limit, set the config variable\n",
      "`--NotebookApp.iopub_msg_rate_limit`.\n",
      "\n",
      "Current values:\n",
      "NotebookApp.iopub_msg_rate_limit=1000.0 (msgs/sec)\n",
      "NotebookApp.rate_limit_window=3.0 (secs)\n",
      "\n",
      "59.1%IOPub message rate exceeded.\n",
      "The notebook server will temporarily stop sending output\n",
      "to the client in order to avoid crashing it.\n",
      "To change this limit, set the config variable\n",
      "`--NotebookApp.iopub_msg_rate_limit`.\n",
      "\n",
      "Current values:\n",
      "NotebookApp.iopub_msg_rate_limit=1000.0 (msgs/sec)\n",
      "NotebookApp.rate_limit_window=3.0 (secs)\n",
      "\n",
      "66.2%IOPub message rate exceeded.\n",
      "The notebook server will temporarily stop sending output\n",
      "to the client in order to avoid crashing it.\n",
      "To change this limit, set the config variable\n",
      "`--NotebookApp.iopub_msg_rate_limit`.\n",
      "\n",
      "Current values:\n",
      "NotebookApp.iopub_msg_rate_limit=1000.0 (msgs/sec)\n",
      "NotebookApp.rate_limit_window=3.0 (secs)\n",
      "\n",
      "73.0%IOPub message rate exceeded.\n",
      "The notebook server will temporarily stop sending output\n",
      "to the client in order to avoid crashing it.\n",
      "To change this limit, set the config variable\n",
      "`--NotebookApp.iopub_msg_rate_limit`.\n",
      "\n",
      "Current values:\n",
      "NotebookApp.iopub_msg_rate_limit=1000.0 (msgs/sec)\n",
      "NotebookApp.rate_limit_window=3.0 (secs)\n",
      "\n",
      "80.2%IOPub message rate exceeded.\n",
      "The notebook server will temporarily stop sending output\n",
      "to the client in order to avoid crashing it.\n",
      "To change this limit, set the config variable\n",
      "`--NotebookApp.iopub_msg_rate_limit`.\n",
      "\n",
      "Current values:\n",
      "NotebookApp.iopub_msg_rate_limit=1000.0 (msgs/sec)\n",
      "NotebookApp.rate_limit_window=3.0 (secs)\n",
      "\n",
      "86.6%IOPub message rate exceeded.\n",
      "The notebook server will temporarily stop sending output\n",
      "to the client in order to avoid crashing it.\n",
      "To change this limit, set the config variable\n",
      "`--NotebookApp.iopub_msg_rate_limit`.\n",
      "\n",
      "Current values:\n",
      "NotebookApp.iopub_msg_rate_limit=1000.0 (msgs/sec)\n",
      "NotebookApp.rate_limit_window=3.0 (secs)\n",
      "\n",
      "92.8%IOPub message rate exceeded.\n",
      "The notebook server will temporarily stop sending output\n",
      "to the client in order to avoid crashing it.\n",
      "To change this limit, set the config variable\n",
      "`--NotebookApp.iopub_msg_rate_limit`.\n",
      "\n",
      "Current values:\n",
      "NotebookApp.iopub_msg_rate_limit=1000.0 (msgs/sec)\n",
      "NotebookApp.rate_limit_window=3.0 (secs)\n",
      "\n",
      "99.4%IOPub message rate exceeded.\n",
      "The notebook server will temporarily stop sending output\n",
      "to the client in order to avoid crashing it.\n",
      "To change this limit, set the config variable\n",
      "`--NotebookApp.iopub_msg_rate_limit`.\n",
      "\n",
      "Current values:\n",
      "NotebookApp.iopub_msg_rate_limit=1000.0 (msgs/sec)\n",
      "NotebookApp.rate_limit_window=3.0 (secs)\n",
      "\n"
     ]
    }
   ],
   "source": [
    "model = models.vgg19(pretrained=True)"
   ]
  },
  {
   "cell_type": "code",
   "execution_count": 32,
   "metadata": {},
   "outputs": [
    {
     "name": "stdout",
     "output_type": "stream",
     "text": [
      "----------------------------------------------------------------\n",
      "        Layer (type)               Output Shape         Param #\n",
      "================================================================\n",
      "            Conv2d-1          [1, 64, 224, 224]           1,792\n",
      "              ReLU-2          [1, 64, 224, 224]               0\n",
      "            Conv2d-3          [1, 64, 224, 224]          36,928\n",
      "              ReLU-4          [1, 64, 224, 224]               0\n",
      "         MaxPool2d-5          [1, 64, 112, 112]               0\n",
      "            Conv2d-6         [1, 128, 112, 112]          73,856\n",
      "              ReLU-7         [1, 128, 112, 112]               0\n",
      "            Conv2d-8         [1, 128, 112, 112]         147,584\n",
      "              ReLU-9         [1, 128, 112, 112]               0\n",
      "        MaxPool2d-10           [1, 128, 56, 56]               0\n",
      "           Conv2d-11           [1, 256, 56, 56]         295,168\n",
      "             ReLU-12           [1, 256, 56, 56]               0\n",
      "           Conv2d-13           [1, 256, 56, 56]         590,080\n",
      "             ReLU-14           [1, 256, 56, 56]               0\n",
      "           Conv2d-15           [1, 256, 56, 56]         590,080\n",
      "             ReLU-16           [1, 256, 56, 56]               0\n",
      "           Conv2d-17           [1, 256, 56, 56]         590,080\n",
      "             ReLU-18           [1, 256, 56, 56]               0\n",
      "        MaxPool2d-19           [1, 256, 28, 28]               0\n",
      "           Conv2d-20           [1, 512, 28, 28]       1,180,160\n",
      "             ReLU-21           [1, 512, 28, 28]               0\n",
      "           Conv2d-22           [1, 512, 28, 28]       2,359,808\n",
      "             ReLU-23           [1, 512, 28, 28]               0\n",
      "           Conv2d-24           [1, 512, 28, 28]       2,359,808\n",
      "             ReLU-25           [1, 512, 28, 28]               0\n",
      "           Conv2d-26           [1, 512, 28, 28]       2,359,808\n",
      "             ReLU-27           [1, 512, 28, 28]               0\n",
      "        MaxPool2d-28           [1, 512, 14, 14]               0\n",
      "           Conv2d-29           [1, 512, 14, 14]       2,359,808\n",
      "             ReLU-30           [1, 512, 14, 14]               0\n",
      "           Conv2d-31           [1, 512, 14, 14]       2,359,808\n",
      "             ReLU-32           [1, 512, 14, 14]               0\n",
      "           Conv2d-33           [1, 512, 14, 14]       2,359,808\n",
      "             ReLU-34           [1, 512, 14, 14]               0\n",
      "           Conv2d-35           [1, 512, 14, 14]       2,359,808\n",
      "             ReLU-36           [1, 512, 14, 14]               0\n",
      "        MaxPool2d-37             [1, 512, 7, 7]               0\n",
      "AdaptiveAvgPool2d-38             [1, 512, 7, 7]               0\n",
      "           Linear-39                  [1, 4096]     102,764,544\n",
      "             ReLU-40                  [1, 4096]               0\n",
      "          Dropout-41                  [1, 4096]               0\n",
      "           Linear-42                  [1, 4096]      16,781,312\n",
      "             ReLU-43                  [1, 4096]               0\n",
      "          Dropout-44                  [1, 4096]               0\n",
      "           Linear-45                  [1, 1000]       4,097,000\n",
      "================================================================\n",
      "Total params: 143,667,240\n",
      "Trainable params: 143,667,240\n",
      "Non-trainable params: 0\n",
      "----------------------------------------------------------------\n",
      "Input size (MB): 0.57\n",
      "Forward/backward pass size (MB): 238.69\n",
      "Params size (MB): 548.05\n",
      "Estimated Total Size (MB): 787.31\n",
      "----------------------------------------------------------------\n"
     ]
    }
   ],
   "source": [
    "from torchsummary import summary\n",
    "summary(model,(3,224,224),batch_size=1,device=\"cpu\")"
   ]
  },
  {
   "cell_type": "code",
   "execution_count": 35,
   "metadata": {},
   "outputs": [],
   "source": [
    "import torch.nn as nn"
   ]
  },
  {
   "cell_type": "code",
   "execution_count": 55,
   "metadata": {},
   "outputs": [],
   "source": [
    "# nums x nums -> avgvpool(output_size=(1,1)) -> (1,1)\n",
    "\n",
    "model.avgpool = nn.AdaptiveAvgPool2d(output_size=(1,1))\n",
    "model.classifier = nn.Sequential(\n",
    "    nn.Flatten(),\n",
    "    nn.Linear(512,256),\n",
    "    nn.ReLU(),\n",
    "    nn.Dropout(0.1),\n",
    "    nn.Linear(256,3),\n",
    "    # nn.Sigmoid()\n",
    ")"
   ]
  },
  {
   "cell_type": "code",
   "execution_count": 56,
   "metadata": {},
   "outputs": [],
   "source": [
    "def build_vgg19_based_model(device=\"cpu\"):\n",
    "    device = torch.device(device)\n",
    "    model = models.vgg19(pretrained=True)\n",
    "    model.avgpool = nn.AdaptiveAvgPool2d(output_size=(1,1))\n",
    "    model.classifier = nn.Sequential(\n",
    "        nn.Flatten(),\n",
    "        nn.Linear(512,256),\n",
    "        nn.ReLU(),\n",
    "        nn.Dropout(0.1),\n",
    "        nn.Linear(256,3),\n",
    "        \n",
    "        \n",
    "    )\n",
    "    return model.to(device)"
   ]
  },
  {
   "cell_type": "code",
   "execution_count": 57,
   "metadata": {},
   "outputs": [
    {
     "name": "stderr",
     "output_type": "stream",
     "text": [
      "/Users/maerad7/opt/anaconda3/envs/pytorch/lib/python3.10/site-packages/torchvision/models/_utils.py:208: UserWarning: The parameter 'pretrained' is deprecated since 0.13 and will be removed in 0.15, please use 'weights' instead.\n",
      "  warnings.warn(\n",
      "/Users/maerad7/opt/anaconda3/envs/pytorch/lib/python3.10/site-packages/torchvision/models/_utils.py:223: UserWarning: Arguments other than a weight enum or `None` for 'weights' are deprecated since 0.13 and will be removed in 0.15. The current behavior is equivalent to passing `weights=VGG19_Weights.IMAGENET1K_V1`. You can also use `weights=VGG19_Weights.DEFAULT` to get the most up-to-date weights.\n",
      "  warnings.warn(msg)\n"
     ]
    },
    {
     "name": "stdout",
     "output_type": "stream",
     "text": [
      "----------------------------------------------------------------\n",
      "        Layer (type)               Output Shape         Param #\n",
      "================================================================\n",
      "            Conv2d-1          [1, 64, 224, 224]           1,792\n",
      "              ReLU-2          [1, 64, 224, 224]               0\n",
      "            Conv2d-3          [1, 64, 224, 224]          36,928\n",
      "              ReLU-4          [1, 64, 224, 224]               0\n",
      "         MaxPool2d-5          [1, 64, 112, 112]               0\n",
      "            Conv2d-6         [1, 128, 112, 112]          73,856\n",
      "              ReLU-7         [1, 128, 112, 112]               0\n",
      "            Conv2d-8         [1, 128, 112, 112]         147,584\n",
      "              ReLU-9         [1, 128, 112, 112]               0\n",
      "        MaxPool2d-10           [1, 128, 56, 56]               0\n",
      "           Conv2d-11           [1, 256, 56, 56]         295,168\n",
      "             ReLU-12           [1, 256, 56, 56]               0\n",
      "           Conv2d-13           [1, 256, 56, 56]         590,080\n",
      "             ReLU-14           [1, 256, 56, 56]               0\n",
      "           Conv2d-15           [1, 256, 56, 56]         590,080\n",
      "             ReLU-16           [1, 256, 56, 56]               0\n",
      "           Conv2d-17           [1, 256, 56, 56]         590,080\n",
      "             ReLU-18           [1, 256, 56, 56]               0\n",
      "        MaxPool2d-19           [1, 256, 28, 28]               0\n",
      "           Conv2d-20           [1, 512, 28, 28]       1,180,160\n",
      "             ReLU-21           [1, 512, 28, 28]               0\n",
      "           Conv2d-22           [1, 512, 28, 28]       2,359,808\n",
      "             ReLU-23           [1, 512, 28, 28]               0\n",
      "           Conv2d-24           [1, 512, 28, 28]       2,359,808\n",
      "             ReLU-25           [1, 512, 28, 28]               0\n",
      "           Conv2d-26           [1, 512, 28, 28]       2,359,808\n",
      "             ReLU-27           [1, 512, 28, 28]               0\n",
      "        MaxPool2d-28           [1, 512, 14, 14]               0\n",
      "           Conv2d-29           [1, 512, 14, 14]       2,359,808\n",
      "             ReLU-30           [1, 512, 14, 14]               0\n",
      "           Conv2d-31           [1, 512, 14, 14]       2,359,808\n",
      "             ReLU-32           [1, 512, 14, 14]               0\n",
      "           Conv2d-33           [1, 512, 14, 14]       2,359,808\n",
      "             ReLU-34           [1, 512, 14, 14]               0\n",
      "           Conv2d-35           [1, 512, 14, 14]       2,359,808\n",
      "             ReLU-36           [1, 512, 14, 14]               0\n",
      "        MaxPool2d-37             [1, 512, 7, 7]               0\n",
      "AdaptiveAvgPool2d-38             [1, 512, 1, 1]               0\n",
      "          Flatten-39                   [1, 512]               0\n",
      "           Linear-40                   [1, 256]         131,328\n",
      "             ReLU-41                   [1, 256]               0\n",
      "          Dropout-42                   [1, 256]               0\n",
      "           Linear-43                     [1, 3]             771\n",
      "================================================================\n",
      "Total params: 20,156,483\n",
      "Trainable params: 20,156,483\n",
      "Non-trainable params: 0\n",
      "----------------------------------------------------------------\n",
      "Input size (MB): 0.57\n",
      "Forward/backward pass size (MB): 238.31\n",
      "Params size (MB): 76.89\n",
      "Estimated Total Size (MB): 315.78\n",
      "----------------------------------------------------------------\n"
     ]
    }
   ],
   "source": [
    "model = build_vgg19_based_model(device=\"cpu\")\n",
    "summary(model,(3,224,224),batch_size=1, device=\"cpu\")"
   ]
  },
  {
   "cell_type": "markdown",
   "metadata": {},
   "source": [
    "6. loss"
   ]
  },
  {
   "cell_type": "code",
   "execution_count": 59,
   "metadata": {},
   "outputs": [],
   "source": [
    "loss_func = nn.CrossEntropyLoss(reduction=\"mean\")"
   ]
  },
  {
   "cell_type": "markdown",
   "metadata": {},
   "source": [
    "7. Optimization\n",
    "- SGDM : SGD + momentum"
   ]
  },
  {
   "cell_type": "code",
   "execution_count": 60,
   "metadata": {},
   "outputs": [],
   "source": [
    "optimizer = torch.optim.SGD(model.parameters(), lr=0.001, momentum=0.9) # 학습 가능한 모델의 파라미터, learning rate"
   ]
  },
  {
   "cell_type": "markdown",
   "metadata": {},
   "source": [
    "8. 학습"
   ]
  },
  {
   "cell_type": "code",
   "execution_count": 61,
   "metadata": {},
   "outputs": [],
   "source": [
    "device = torch.device(\"cpu\")"
   ]
  },
  {
   "cell_type": "code",
   "execution_count": 88,
   "metadata": {},
   "outputs": [],
   "source": [
    "def train_one_epoch(dataloaders, model, optimizer, loss_function, device):\n",
    "    losses = {}\n",
    "    accuracies = {}\n",
    "    \n",
    "    for phase in [\"train\", \"val\"]:\n",
    "        running_loss = 0.0\n",
    "        running_correct = 0\n",
    "        \n",
    "        if phase == \"train\":\n",
    "            model.train()\n",
    "        else:\n",
    "            model.eval()\n",
    "            \n",
    "        for index, batch in enumerate(dataloaders[phase]):\n",
    "            image = batch[0].to(device)\n",
    "            target = batch[1].squeeze(dim=1).to(device)\n",
    "\n",
    "            with torch.set_grad_enabled(phase == \"train\"):\n",
    "                prediction = model(image)\n",
    "                loss = loss_func(prediction, target)\n",
    "                \n",
    "                if phase == \"train\":\n",
    "                    optimizer.zero_grad()\n",
    "                    loss.backward()\n",
    "                    optimizer.step()\n",
    "                    \n",
    "            running_loss += loss.item()\n",
    "            running_correct += get_accuracy(image, target, model)\n",
    "            \n",
    "            if phase == \"train\":\n",
    "                if index % 10 == 0:\n",
    "                    print(f\"{index}/{len(dataloaders['train'])} - Running loss: {loss.item()}\")\n",
    "            \n",
    "        losses[phase] = running_loss / len(dataloaders[phase])\n",
    "        accuracies[phase] = running_correct / len(dataloaders[phase])\n",
    "    return losses, accuracies"
   ]
  },
  {
   "cell_type": "markdown",
   "metadata": {},
   "source": [
    "9. Accuracy\n",
    "- top-1 : 가장 confidence가 높은 예측 값의 클래스가 gorund truth와 일치하는 경우\n",
    "- top-5 : 상위 5개의 confidence가 예측 값의 클래스에 gorund truth가 존재하는 경우"
   ]
  },
  {
   "cell_type": "code",
   "execution_count": 96,
   "metadata": {},
   "outputs": [],
   "source": [
    "@torch.no_grad()\n",
    "def get_accuracy(image, target, model):\n",
    "    batch_size = image.shape[0]\n",
    "    prediction = model(image)\n",
    "    _, pred_label = torch.max(prediction, dim=1)\n",
    "    is_correct = (pred_label == target)\n",
    "    return is_correct.cpu().numpy().sum() / batch_size"
   ]
  },
  {
   "cell_type": "markdown",
   "metadata": {},
   "source": [
    "10. 학습실행"
   ]
  },
  {
   "cell_type": "code",
   "execution_count": 98,
   "metadata": {},
   "outputs": [],
   "source": [
    "import copy\n",
    "def save_best_model(model_state, model_name, save_dir=\"./trained_model\"):\n",
    "    os.makedirs(save_dir, exist_ok=True)\n",
    "    torch.save(model_state, os.path.join(save_dir, model_name))"
   ]
  },
  {
   "cell_type": "code",
   "execution_count": 99,
   "metadata": {},
   "outputs": [
    {
     "name": "stdout",
     "output_type": "stream",
     "text": [
      "0/62 - Running loss: 0.48602837324142456\n",
      "10/62 - Running loss: 0.238827183842659\n",
      "20/62 - Running loss: 0.3010888397693634\n",
      "30/62 - Running loss: 0.20047622919082642\n",
      "40/62 - Running loss: 0.05661853402853012\n",
      "50/62 - Running loss: 1.0109471082687378\n",
      "60/62 - Running loss: 0.1393304318189621\n",
      "1/10-Train Loss: 0.3888849351825493, Val Loss: 0.365146596321045\n",
      "1/10-Train Acc: 0.8830645161290323, Val Acc: 0.8939393939393939\n",
      "0/62 - Running loss: 0.07370871305465698\n",
      "10/62 - Running loss: 0.17872953414916992\n",
      "20/62 - Running loss: 0.02114102989435196\n",
      "30/62 - Running loss: 0.030186669901013374\n",
      "40/62 - Running loss: 0.4425237774848938\n",
      "50/62 - Running loss: 0.07002128660678864\n",
      "60/62 - Running loss: 0.21432332694530487\n",
      "2/10-Train Loss: 0.17141536337646446, Val Loss: 0.24895999944271893\n",
      "2/10-Train Acc: 0.967741935483871, Val Acc: 0.8787878787878788\n",
      "0/62 - Running loss: 0.061328355222940445\n",
      "10/62 - Running loss: 0.0013854952994734049\n",
      "20/62 - Running loss: 1.4036771972314455e-05\n",
      "30/62 - Running loss: 0.00013531354488804936\n",
      "40/62 - Running loss: 0.00511179119348526\n",
      "50/62 - Running loss: 0.029103189706802368\n",
      "60/62 - Running loss: 0.15480005741119385\n",
      "3/10-Train Loss: 0.1447938339288744, Val Loss: 0.42813761879435996\n",
      "3/10-Train Acc: 0.9758064516129032, Val Acc: 0.8181818181818182\n",
      "0/62 - Running loss: 0.40173304080963135\n",
      "10/62 - Running loss: 0.021144511178135872\n",
      "20/62 - Running loss: 0.03994550183415413\n",
      "30/62 - Running loss: 0.0021650996059179306\n",
      "40/62 - Running loss: 0.0010687579633668065\n",
      "50/62 - Running loss: 0.28187575936317444\n",
      "60/62 - Running loss: 0.018558114767074585\n",
      "4/10-Train Loss: 0.11515737050332621, Val Loss: 0.8291312164195997\n",
      "4/10-Train Acc: 0.9798387096774194, Val Acc: 0.7424242424242424\n",
      "0/62 - Running loss: 0.037388160824775696\n",
      "10/62 - Running loss: 0.005017413757741451\n",
      "20/62 - Running loss: 0.27597302198410034\n",
      "30/62 - Running loss: 0.010292105376720428\n",
      "40/62 - Running loss: 0.009136426262557507\n",
      "50/62 - Running loss: 0.005754975136369467\n",
      "60/62 - Running loss: 0.03843040019273758\n",
      "5/10-Train Loss: 0.07926725450400432, Val Loss: 0.10029644180499556\n",
      "5/10-Train Acc: 0.9919354838709677, Val Acc: 0.9545454545454546\n",
      "0/62 - Running loss: 0.0007085929973982275\n",
      "10/62 - Running loss: 0.0005512950010597706\n",
      "20/62 - Running loss: 0.0017229081131517887\n",
      "30/62 - Running loss: 0.0004379148595035076\n",
      "40/62 - Running loss: 0.00033163369516842067\n",
      "50/62 - Running loss: 0.006985521875321865\n",
      "60/62 - Running loss: 0.00047278773854486644\n",
      "6/10-Train Loss: 0.009738721082803456, Val Loss: 0.028446337812188933\n",
      "6/10-Train Acc: 1.0, Val Acc: 1.0\n",
      "0/62 - Running loss: 0.0026675998233258724\n",
      "10/62 - Running loss: 3.781654595513828e-05\n",
      "20/62 - Running loss: 8.152602094924077e-05\n",
      "30/62 - Running loss: 0.00015092095418367535\n",
      "40/62 - Running loss: 0.0001465887762606144\n",
      "50/62 - Running loss: 0.0003715519851539284\n",
      "60/62 - Running loss: 1.7106192899518646e-05\n",
      "7/10-Train Loss: 0.0011939127277855732, Val Loss: 0.016959870402640683\n",
      "7/10-Train Acc: 1.0, Val Acc: 1.0\n",
      "0/62 - Running loss: 0.0008277898887172341\n",
      "10/62 - Running loss: 0.001233404385857284\n",
      "20/62 - Running loss: 3.1082818168215454e-05\n",
      "30/62 - Running loss: 0.00025706065935082734\n",
      "40/62 - Running loss: 0.00033588160295039415\n",
      "50/62 - Running loss: 5.9301975852577016e-05\n",
      "60/62 - Running loss: 0.0002121519501088187\n",
      "8/10-Train Loss: 0.0004691680962768289, Val Loss: 0.024895085295116987\n",
      "8/10-Train Acc: 1.0, Val Acc: 0.9848484848484849\n",
      "0/62 - Running loss: 4.052960139233619e-05\n",
      "10/62 - Running loss: 0.000284999783616513\n",
      "20/62 - Running loss: 0.0014432542957365513\n",
      "30/62 - Running loss: 0.00014723348431289196\n",
      "40/62 - Running loss: 1.3828063856635708e-05\n",
      "50/62 - Running loss: 2.53910620813258e-05\n",
      "60/62 - Running loss: 0.0001394508290104568\n",
      "9/10-Train Loss: 0.0003144001441855395, Val Loss: 0.025273007239575943\n",
      "9/10-Train Acc: 1.0, Val Acc: 0.9848484848484849\n",
      "0/62 - Running loss: 1.1324875686113955e-06\n",
      "10/62 - Running loss: 0.00010530788131291047\n",
      "20/62 - Running loss: 0.0010128178400918841\n",
      "30/62 - Running loss: 0.0006677167257294059\n",
      "40/62 - Running loss: 1.597379014128819e-05\n",
      "50/62 - Running loss: 0.00020067316654603928\n",
      "60/62 - Running loss: 8.245123171946034e-05\n",
      "10/10-Train Loss: 0.00019767637250226705, Val Loss: 0.026864410773380126\n",
      "10/10-Train Acc: 1.0, Val Acc: 0.9848484848484849\n",
      "Best Accuracy: 1.0\n"
     ]
    }
   ],
   "source": [
    "num_epochs = 10\n",
    "\n",
    "best_acc = 0.0\n",
    "train_loss, train_accuracy = [], []\n",
    "val_loss, val_accuracy = [], []\n",
    "\n",
    "for epoch in range(num_epochs):\n",
    "    losses, accuracies = train_one_epoch(dataloaders, model, optimizer, loss_func, device)\n",
    "    train_loss.append(losses[\"train\"])\n",
    "    val_loss.append(losses[\"val\"])\n",
    "    train_accuracy.append(accuracies[\"train\"])\n",
    "    val_accuracy.append(accuracies[\"val\"])\n",
    "    \n",
    "    print(f\"{epoch+1}/{num_epochs}-Train Loss: {losses['train']}, Val Loss: {losses['val']}\")\n",
    "    print(f\"{epoch+1}/{num_epochs}-Train Acc: {accuracies['train']}, Val Acc: {accuracies['val']}\")\n",
    "    \n",
    "    if (epoch > 3) and (accuracies[\"val\"] > best_acc):\n",
    "        best_acc = accuracies[\"val\"]\n",
    "        best_model = copy.deepcopy(model.state_dict())\n",
    "        save_best_model(best_model, f\"model_{epoch+1:02d}.pth\")\n",
    "        \n",
    "print(f\"Best Accuracy: {best_acc}\")"
   ]
  },
  {
   "cell_type": "code",
   "execution_count": 100,
   "metadata": {},
   "outputs": [
    {
     "data": {
      "image/png": "[encoded data removed]",
      "text/plain": [
       "<Figure size 432x360 with 2 Axes>"
      ]
     },
     "metadata": {
      "needs_background": "light"
     },
     "output_type": "display_data"
    }
   ],
   "source": [
    "plt.figure(figsize=(6, 5))\n",
    "plt.subplot(211)\n",
    "plt.plot(train_loss, label=\"train\")\n",
    "plt.plot(val_loss,  label=\"val\")\n",
    "plt.xlabel(\"epoch\")\n",
    "plt.ylabel(\"loss\")\n",
    "plt.grid(\"on\")\n",
    "plt.legend()\n",
    "plt.subplot(212)\n",
    "plt.plot(train_accuracy, label=\"train\")\n",
    "plt.plot(val_accuracy, label=\"val\")\n",
    "plt.xlabel(\"epoch\")\n",
    "plt.ylabel(\"accuracy\")\n",
    "plt.grid(\"on\")\n",
    "plt.legend()\n",
    "plt.tight_layout()"
   ]
  },
  {
   "cell_type": "markdown",
   "metadata": {},
   "source": [
    "11. 성능 검증"
   ]
  },
  {
   "cell_type": "code",
   "execution_count": 140,
   "metadata": {},
   "outputs": [],
   "source": [
    "test_normals_list=[]\n",
    "test_covids_list=[]\n",
    "test_pneumonias_list=[]\n",
    "test_dir = \"/Users/maerad7/Documents/05. 개인프로젝트/02. 코로나_폐렴_정상 이미지 분류/data/test\"\n",
    "test_normals_list = list_image_files(test_dir,\"Normal\")\n",
    "test_covids_list = list_image_files(test_dir,\"Covid\")\n",
    "test_pneumonias_list = list_image_files(test_dir,\"Viral Pneumonia\")"
   ]
  },
  {
   "cell_type": "code",
   "execution_count": 150,
   "metadata": {},
   "outputs": [],
   "source": [
    "def preprocess_image(image):\n",
    "    transformer = transforms.Compose([\n",
    "        transforms.ToTensor(),\n",
    "        transforms.Resize((224, 244)),\n",
    "        transforms.Normalize(mean=[0.5, 0.5, 0.5], std=[0.5,0.5,0.5])\n",
    "    ])\n",
    "    \n",
    "    tensor_image = transformer(image)  # (C, H, W)\n",
    "    tensor_image = tensor_image.unsqueeze(0) # (B, C, H, W) 배치 사이즈 추가 (1)\n",
    "    return tensor_image"
   ]
  },
  {
   "cell_type": "code",
   "execution_count": 156,
   "metadata": {},
   "outputs": [],
   "source": [
    "@torch.no_grad()\n",
    "def model_predict(image, model):\n",
    "    tensor_image = preprocess_image(image)\n",
    "    prediction = model(tensor_image)\n",
    "    \n",
    "    _, pred_label = torch.max(prediction.detach().cpu(), dim=1) # 그래프에서 detach // (B,num_class) \n",
    "    pred_label = pred_label.squeeze(dim=0) # (B, 1) -> (1) \n",
    "    return pred_label.item() # torch 변수의 스칼라 값만 가져옴"
   ]
  },
  {
   "cell_type": "code",
   "execution_count": 157,
   "metadata": {},
   "outputs": [
    {
     "data": {
      "text/plain": [
       "VGG(\n",
       "  (features): Sequential(\n",
       "    (0): Conv2d(3, 64, kernel_size=(3, 3), stride=(1, 1), padding=(1, 1))\n",
       "    (1): ReLU(inplace=True)\n",
       "    (2): Conv2d(64, 64, kernel_size=(3, 3), stride=(1, 1), padding=(1, 1))\n",
       "    (3): ReLU(inplace=True)\n",
       "    (4): MaxPool2d(kernel_size=2, stride=2, padding=0, dilation=1, ceil_mode=False)\n",
       "    (5): Conv2d(64, 128, kernel_size=(3, 3), stride=(1, 1), padding=(1, 1))\n",
       "    (6): ReLU(inplace=True)\n",
       "    (7): Conv2d(128, 128, kernel_size=(3, 3), stride=(1, 1), padding=(1, 1))\n",
       "    (8): ReLU(inplace=True)\n",
       "    (9): MaxPool2d(kernel_size=2, stride=2, padding=0, dilation=1, ceil_mode=False)\n",
       "    (10): Conv2d(128, 256, kernel_size=(3, 3), stride=(1, 1), padding=(1, 1))\n",
       "    (11): ReLU(inplace=True)\n",
       "    (12): Conv2d(256, 256, kernel_size=(3, 3), stride=(1, 1), padding=(1, 1))\n",
       "    (13): ReLU(inplace=True)\n",
       "    (14): Conv2d(256, 256, kernel_size=(3, 3), stride=(1, 1), padding=(1, 1))\n",
       "    (15): ReLU(inplace=True)\n",
       "    (16): Conv2d(256, 256, kernel_size=(3, 3), stride=(1, 1), padding=(1, 1))\n",
       "    (17): ReLU(inplace=True)\n",
       "    (18): MaxPool2d(kernel_size=2, stride=2, padding=0, dilation=1, ceil_mode=False)\n",
       "    (19): Conv2d(256, 512, kernel_size=(3, 3), stride=(1, 1), padding=(1, 1))\n",
       "    (20): ReLU(inplace=True)\n",
       "    (21): Conv2d(512, 512, kernel_size=(3, 3), stride=(1, 1), padding=(1, 1))\n",
       "    (22): ReLU(inplace=True)\n",
       "    (23): Conv2d(512, 512, kernel_size=(3, 3), stride=(1, 1), padding=(1, 1))\n",
       "    (24): ReLU(inplace=True)\n",
       "    (25): Conv2d(512, 512, kernel_size=(3, 3), stride=(1, 1), padding=(1, 1))\n",
       "    (26): ReLU(inplace=True)\n",
       "    (27): MaxPool2d(kernel_size=2, stride=2, padding=0, dilation=1, ceil_mode=False)\n",
       "    (28): Conv2d(512, 512, kernel_size=(3, 3), stride=(1, 1), padding=(1, 1))\n",
       "    (29): ReLU(inplace=True)\n",
       "    (30): Conv2d(512, 512, kernel_size=(3, 3), stride=(1, 1), padding=(1, 1))\n",
       "    (31): ReLU(inplace=True)\n",
       "    (32): Conv2d(512, 512, kernel_size=(3, 3), stride=(1, 1), padding=(1, 1))\n",
       "    (33): ReLU(inplace=True)\n",
       "    (34): Conv2d(512, 512, kernel_size=(3, 3), stride=(1, 1), padding=(1, 1))\n",
       "    (35): ReLU(inplace=True)\n",
       "    (36): MaxPool2d(kernel_size=2, stride=2, padding=0, dilation=1, ceil_mode=False)\n",
       "  )\n",
       "  (avgpool): AdaptiveAvgPool2d(output_size=(1, 1))\n",
       "  (classifier): Sequential(\n",
       "    (0): Flatten(start_dim=1, end_dim=-1)\n",
       "    (1): Linear(in_features=512, out_features=256, bias=True)\n",
       "    (2): ReLU()\n",
       "    (3): Dropout(p=0.1, inplace=False)\n",
       "    (4): Linear(in_features=256, out_features=3, bias=True)\n",
       "  )\n",
       ")"
      ]
     },
     "execution_count": 157,
     "metadata": {},
     "output_type": "execute_result"
    }
   ],
   "source": [
    "ckpt = torch.load(\"./trained_model/model_06.pth\")\n",
    "\n",
    "model = build_vgg19_based_model(device='cpu')\n",
    "model.load_state_dict(ckpt)\n",
    "model.eval()"
   ]
  },
  {
   "cell_type": "code",
   "execution_count": 158,
   "metadata": {},
   "outputs": [],
   "source": [
    "def get_RGB_image(data_dir, file_name):\n",
    "    image_file = os.path.join(data_dir, file_name)\n",
    "    image = cv2.imread(image_file)\n",
    "    image = cv2.cvtColor(image, cv2.COLOR_BGR2RGB)\n",
    "    return image"
   ]
  },
  {
   "cell_type": "code",
   "execution_count": 159,
   "metadata": {},
   "outputs": [
    {
     "data": {
      "application/vnd.jupyter.widget-view+json": {
       "model_id": "6b56c8314c5a45719a0c046b0248612f",
       "version_major": 2,
       "version_minor": 0
      },
      "text/plain": [
       "interactive(children=(IntSlider(value=0, description='index', max=19), Output()), _dom_classes=('widget-intera…"
      ]
     },
     "metadata": {},
     "output_type": "display_data"
    }
   ],
   "source": [
    "min_num_files = min(len(test_normals_list), len(test_covids_list), len(test_pneumonias_list))\n",
    "\n",
    "@interact(index=(0, min_num_files-1))\n",
    "def show_result(index=0):\n",
    "    normal_image = get_RGB_image(test_dir, test_normals_list[index])\n",
    "    covid_image = get_RGB_image(test_dir, test_covids_list[index])\n",
    "    pneumonia_image = get_RGB_image(test_dir, test_pneumonias_list[index])\n",
    "    \n",
    "    prediction_1 = model_predict(normal_image, model)\n",
    "    prediction_2 = model_predict(covid_image, model)\n",
    "    prediction_3 = model_predict(pneumonia_image, model)\n",
    "    \n",
    "    plt.figure(figsize=(12,8))\n",
    "    plt.subplot(131)\n",
    "    plt.title(f\"Pred:{class_list[prediction_1]} | GT:Normal\")\n",
    "    plt.imshow(normal_image)\n",
    "    plt.subplot(132)\n",
    "    plt.title(f\"Pred:{class_list[prediction_2]} | GT:Covid\")\n",
    "    plt.imshow(covid_image)\n",
    "    plt.subplot(133)\n",
    "    plt.title(f\"Pred:{class_list[prediction_3]} | GT:Pneumonia\")\n",
    "    plt.imshow(pneumonia_image)\n",
    "    plt.tight_layout()"
   ]
  },
  {
   "cell_type": "code",
   "execution_count": null,
   "metadata": {},
   "outputs": [],
   "source": []
  }
 ],
 "metadata": {
  "interpreter": {
   "hash": "1fcefa7e775292744235df4e84245ab9011a73e0badb83d11345b0006ab2565d"
  },
  "kernelspec": {
   "display_name": "Python 3.10.4 ('pytorch')",
   "language": "python",
   "name": "python3"
  },
  "language_info": {
   "codemirror_mode": {
    "name": "ipython",
    "version": 3
   },
   "file_extension": ".py",
   "mimetype": "text/x-python",
   "name": "python",
   "nbconvert_exporter": "python",
   "pygments_lexer": "ipython3",
   "version": "3.10.4"
  },
  "orig_nbformat": 4
 },
 "nbformat": 4,
 "nbformat_minor": 2
}
